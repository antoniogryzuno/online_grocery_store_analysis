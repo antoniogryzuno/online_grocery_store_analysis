{
 "cells": [
  {
   "cell_type": "markdown",
   "id": "c7dda2b3-b5c9-44f2-9073-f25dd26df376",
   "metadata": {},
   "source": [
    "# IMPORTING LIBRARIES AND PROCESSING DATA"
   ]
  },
  {
   "cell_type": "code",
   "execution_count": 1,
   "id": "ce68b2d0-2d67-45b4-9d2e-16f42fcb2fd6",
   "metadata": {},
   "outputs": [],
   "source": [
    "# Import libraries\n",
    "import pandas as pd\n",
    "import numpy as np\n",
    "import os "
   ]
  },
  {
   "cell_type": "markdown",
   "id": "8e83b452-7547-4561-9f98-d4c00b92a977",
   "metadata": {},
   "source": [
    "## Working with Data types / Integer"
   ]
  },
  {
   "cell_type": "code",
   "execution_count": 2,
   "id": "1d745522-2ff7-46ed-aa3d-e710e2cc919f",
   "metadata": {},
   "outputs": [],
   "source": [
    "X = 75"
   ]
  },
  {
   "cell_type": "code",
   "execution_count": 3,
   "id": "2f6ae52a-2468-4b59-9b94-50b4e6a8ff0c",
   "metadata": {},
   "outputs": [],
   "source": [
    "Y = 25"
   ]
  },
  {
   "cell_type": "code",
   "execution_count": 4,
   "id": "6c9eaccc-93b6-4d56-a12e-e410fad07214",
   "metadata": {},
   "outputs": [
    {
     "data": {
      "text/plain": [
       "100"
      ]
     },
     "execution_count": 4,
     "metadata": {},
     "output_type": "execute_result"
    }
   ],
   "source": [
    "X + Y "
   ]
  },
  {
   "cell_type": "code",
   "execution_count": 6,
   "id": "a2f640ff-fad3-470d-bcb4-6bb78fb9d6b9",
   "metadata": {},
   "outputs": [
    {
     "data": {
      "text/plain": [
       "100"
      ]
     },
     "execution_count": 6,
     "metadata": {},
     "output_type": "execute_result"
    }
   ],
   "source": [
    "X + 25"
   ]
  },
  {
   "cell_type": "code",
   "execution_count": 7,
   "id": "cc01f79a-7c4c-4206-9cee-2cc3090ada9d",
   "metadata": {
    "scrolled": true
   },
   "outputs": [
    {
     "data": {
      "text/plain": [
       "100"
      ]
     },
     "execution_count": 7,
     "metadata": {},
     "output_type": "execute_result"
    }
   ],
   "source": [
    "200 - (X + Y) "
   ]
  },
  {
   "cell_type": "markdown",
   "id": "3f1283d7-e9be-4eef-b737-4f7f7119de34",
   "metadata": {},
   "source": [
    "## Working with Data types / Floting-Point"
   ]
  },
  {
   "cell_type": "code",
   "execution_count": 8,
   "id": "a7a71ba4-677e-4b71-8aaf-f61614ae377c",
   "metadata": {},
   "outputs": [],
   "source": [
    "C = 3.5 "
   ]
  },
  {
   "cell_type": "code",
   "execution_count": 9,
   "id": "1c1bcd26-023c-4294-b3b5-5543abbbaea4",
   "metadata": {},
   "outputs": [],
   "source": [
    "D = 1.5"
   ]
  },
  {
   "cell_type": "code",
   "execution_count": 10,
   "id": "9714432a-7da2-414e-9c2e-8d7748318cdf",
   "metadata": {},
   "outputs": [
    {
     "data": {
      "text/plain": [
       "2.3333333333333335"
      ]
     },
     "execution_count": 10,
     "metadata": {},
     "output_type": "execute_result"
    }
   ],
   "source": [
    "C / D"
   ]
  },
  {
   "cell_type": "markdown",
   "id": "c5ff3d34-b4c2-4650-afe4-4166ab79b574",
   "metadata": {},
   "source": [
    "## Working with Data types / Strings EXAMPLE 1"
   ]
  },
  {
   "cell_type": "code",
   "execution_count": 18,
   "id": "89743816-4aa5-4a09-b760-bc039db46a2e",
   "metadata": {},
   "outputs": [],
   "source": [
    "A = 'Hello, '"
   ]
  },
  {
   "cell_type": "code",
   "execution_count": 19,
   "id": "a1cc3723-85c0-4838-b225-2d8bef9cddc5",
   "metadata": {},
   "outputs": [],
   "source": [
    "B = 'World'"
   ]
  },
  {
   "cell_type": "code",
   "execution_count": 20,
   "id": "16c6c064-1711-421d-a977-876678e920b7",
   "metadata": {},
   "outputs": [
    {
     "data": {
      "text/plain": [
       "'Hello, World'"
      ]
     },
     "execution_count": 20,
     "metadata": {},
     "output_type": "execute_result"
    }
   ],
   "source": [
    "A + B"
   ]
  },
  {
   "cell_type": "markdown",
   "id": "1af278b5-3527-4a40-9b01-e5a25a39cf28",
   "metadata": {},
   "source": [
    "## Working with Data types / Strings EXAMPLE 2"
   ]
  },
  {
   "cell_type": "code",
   "execution_count": 45,
   "id": "fa14c654-e0c2-4165-9a5e-4b3fa95144ba",
   "metadata": {},
   "outputs": [],
   "source": [
    "A = 'I Love'"
   ]
  },
  {
   "cell_type": "code",
   "execution_count": 51,
   "id": "e8cd9a31-5fd8-4b41-89fa-2b9145de6bf1",
   "metadata": {},
   "outputs": [],
   "source": [
    "B = 'pizza.'"
   ]
  },
  {
   "cell_type": "code",
   "execution_count": 65,
   "id": "32b71b92-9b95-401b-ac2a-a72830c6aadf",
   "metadata": {},
   "outputs": [],
   "source": [
    "sentence = A + ' ' + B"
   ]
  },
  {
   "cell_type": "code",
   "execution_count": 66,
   "id": "184ffee4-8d96-4cc7-b6ab-280a2fbd0ec0",
   "metadata": {},
   "outputs": [
    {
     "name": "stdout",
     "output_type": "stream",
     "text": [
      "I love pizza.\n"
     ]
    }
   ],
   "source": [
    "print(sentence)"
   ]
  },
  {
   "cell_type": "code",
   "execution_count": 67,
   "id": "f8fb8503-b8e0-428b-8617-fcaca5e1fc98",
   "metadata": {},
   "outputs": [],
   "source": [
    "C = 'IT IS'"
   ]
  },
  {
   "cell_type": "code",
   "execution_count": 61,
   "id": "557418c3-530b-4e57-ab36-073914bba80c",
   "metadata": {},
   "outputs": [],
   "source": [
    "D = 'DELICIOUS' "
   ]
  },
  {
   "cell_type": "code",
   "execution_count": 63,
   "id": "771e47c0-8ef0-4e89-a539-0a6c93e44593",
   "metadata": {},
   "outputs": [],
   "source": [
    "sentence2 = C + ' ' + D "
   ]
  },
  {
   "cell_type": "code",
   "execution_count": 64,
   "id": "d6756c44-01ae-45ba-95be-a9642d2e76a5",
   "metadata": {
    "scrolled": true
   },
   "outputs": [
    {
     "name": "stdout",
     "output_type": "stream",
     "text": [
      "IT IS DELICIOUS\n"
     ]
    }
   ],
   "source": [
    "print(sentence2)"
   ]
  },
  {
   "cell_type": "code",
   "execution_count": 70,
   "id": "a61641cf-6eae-4e54-90c1-2d949d6ec525",
   "metadata": {},
   "outputs": [
    {
     "name": "stdout",
     "output_type": "stream",
     "text": [
      "I love pizza.\n",
      "IT IS DELICIOUS\n"
     ]
    }
   ],
   "source": [
    "print(sentence)\n",
    "print(sentence2)"
   ]
  }
 ],
 "metadata": {
  "kernelspec": {
   "display_name": "Python 3 (ipykernel)",
   "language": "python",
   "name": "python3"
  },
  "language_info": {
   "codemirror_mode": {
    "name": "ipython",
    "version": 3
   },
   "file_extension": ".py",
   "mimetype": "text/x-python",
   "name": "python",
   "nbconvert_exporter": "python",
   "pygments_lexer": "ipython3",
   "version": "3.11.7"
  }
 },
 "nbformat": 4,
 "nbformat_minor": 5
}
